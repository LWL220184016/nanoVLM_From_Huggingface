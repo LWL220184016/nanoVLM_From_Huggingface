{
  "cells": [
    {
      "cell_type": "markdown",
      "id": "2de5dd1f",
      "metadata": {
        "id": "2de5dd1f"
      },
      "source": [
        "### Train a ALM in Google Colab!"
      ]
    },
    {
      "cell_type": "markdown",
      "id": "OCooV08mNANR",
      "metadata": {
        "id": "OCooV08mNANR"
      },
      "source": [
        "### Clone the repository if you don't have it already"
      ]
    },
    {
      "cell_type": "code",
      "execution_count": 1,
      "id": "ooQMjmrMLn-4",
      "metadata": {
        "colab": {
          "base_uri": "https://localhost:8080/"
        },
        "id": "ooQMjmrMLn-4",
        "outputId": "296d271d-c0f5-4db0-b17d-04160aa83ed8"
      },
      "outputs": [
        {
          "name": "stdout",
          "output_type": "stream",
          "text": [
            "fatal: destination path 'nanoVLM_From_Huggingface' already exists and is not an empty directory.\n",
            "/content/nanoVLM_From_Huggingface\n",
            "assets\t\t\tdebug_func.py\t\t\t\t  nanoALM.ipynb\n",
            "benchmark-inference.py\tdebug_tokenizer_dataset_compatibility.py  README.md\n",
            "benchmark_suite.py\tgenerate.py\t\t\t\t  train.py\n",
            "checkpoints\t\tmeasure_vram.py\n",
            "data\t\t\tmodels\n"
          ]
        }
      ],
      "source": [
        "import os\n",
        "\n",
        "if not os.path.isdir('nanoALM'):\n",
        "    !git clone https://github.com/LWL220184016/nanoVLM_From_Huggingface.git\n",
        "%cd nanoVLM_From_Huggingface/\n",
        "!ls"
      ]
    },
    {
      "cell_type": "markdown",
      "id": "mMhc9OCENup5",
      "metadata": {
        "id": "mMhc9OCENup5"
      },
      "source": [
        "### Imports and Setup"
      ]
    },
    {
      "cell_type": "code",
      "execution_count": 2,
      "id": "54bc8463",
      "metadata": {
        "id": "54bc8463"
      },
      "outputs": [],
      "source": [
        "# Let's authentificate with the Hugging Face Hub so you can push your model\n",
        "# from huggingface_hub import notebook_login\n",
        "# notebook_login()\n",
        "# !huggingface-cli login"
      ]
    },
    {
      "cell_type": "code",
      "execution_count": 3,
      "id": "bcw8qQqoOSR7",
      "metadata": {
        "colab": {
          "base_uri": "https://localhost:8080/"
        },
        "collapsed": true,
        "id": "bcw8qQqoOSR7",
        "outputId": "7d5255ca-2ca8-450c-f4c0-582be4735a07"
      },
      "outputs": [
        {
          "name": "stdout",
          "output_type": "stream",
          "text": [
            "\u001b[31mERROR: pip's dependency resolver does not currently take into account all the packages that are installed. This behaviour is the source of the following dependency conflicts.\n",
            "datasets 3.6.0 requires fsspec[http]<=2025.3.0,>=2023.1.0, but you have fsspec 2025.3.2 which is incompatible.\u001b[0m\u001b[31m\n",
            "\u001b[0mRequirement already satisfied: datasets in /usr/local/lib/python3.11/dist-packages (3.6.0)\n",
            "Requirement already satisfied: filelock in /usr/local/lib/python3.11/dist-packages (from datasets) (3.18.0)\n",
            "Requirement already satisfied: numpy>=1.17 in /usr/local/lib/python3.11/dist-packages (from datasets) (2.0.2)\n",
            "Requirement already satisfied: pyarrow>=15.0.0 in /usr/local/lib/python3.11/dist-packages (from datasets) (18.1.0)\n",
            "Requirement already satisfied: dill<0.3.9,>=0.3.0 in /usr/local/lib/python3.11/dist-packages (from datasets) (0.3.7)\n",
            "Requirement already satisfied: pandas in /usr/local/lib/python3.11/dist-packages (from datasets) (2.2.2)\n",
            "Requirement already satisfied: requests>=2.32.2 in /usr/local/lib/python3.11/dist-packages (from datasets) (2.32.3)\n",
            "Requirement already satisfied: tqdm>=4.66.3 in /usr/local/lib/python3.11/dist-packages (from datasets) (4.67.1)\n",
            "Requirement already satisfied: xxhash in /usr/local/lib/python3.11/dist-packages (from datasets) (3.5.0)\n",
            "Requirement already satisfied: multiprocess<0.70.17 in /usr/local/lib/python3.11/dist-packages (from datasets) (0.70.15)\n",
            "Collecting fsspec<=2025.3.0,>=2023.1.0 (from fsspec[http]<=2025.3.0,>=2023.1.0->datasets)\n",
            "  Using cached fsspec-2025.3.0-py3-none-any.whl.metadata (11 kB)\n",
            "Requirement already satisfied: huggingface-hub>=0.24.0 in /usr/local/lib/python3.11/dist-packages (from datasets) (0.33.0)\n",
            "Requirement already satisfied: packaging in /usr/local/lib/python3.11/dist-packages (from datasets) (24.2)\n",
            "Requirement already satisfied: pyyaml>=5.1 in /usr/local/lib/python3.11/dist-packages (from datasets) (6.0.2)\n",
            "Requirement already satisfied: aiohttp!=4.0.0a0,!=4.0.0a1 in /usr/local/lib/python3.11/dist-packages (from fsspec[http]<=2025.3.0,>=2023.1.0->datasets) (3.11.15)\n",
            "Requirement already satisfied: typing-extensions>=3.7.4.3 in /usr/local/lib/python3.11/dist-packages (from huggingface-hub>=0.24.0->datasets) (4.14.0)\n",
            "Requirement already satisfied: hf-xet<2.0.0,>=1.1.2 in /usr/local/lib/python3.11/dist-packages (from huggingface-hub>=0.24.0->datasets) (1.1.4)\n",
            "Requirement already satisfied: charset-normalizer<4,>=2 in /usr/local/lib/python3.11/dist-packages (from requests>=2.32.2->datasets) (3.4.2)\n",
            "Requirement already satisfied: idna<4,>=2.5 in /usr/local/lib/python3.11/dist-packages (from requests>=2.32.2->datasets) (3.10)\n",
            "Requirement already satisfied: urllib3<3,>=1.21.1 in /usr/local/lib/python3.11/dist-packages (from requests>=2.32.2->datasets) (2.4.0)\n",
            "Requirement already satisfied: certifi>=2017.4.17 in /usr/local/lib/python3.11/dist-packages (from requests>=2.32.2->datasets) (2025.6.15)\n",
            "Requirement already satisfied: python-dateutil>=2.8.2 in /usr/local/lib/python3.11/dist-packages (from pandas->datasets) (2.9.0.post0)\n",
            "Requirement already satisfied: pytz>=2020.1 in /usr/local/lib/python3.11/dist-packages (from pandas->datasets) (2025.2)\n",
            "Requirement already satisfied: tzdata>=2022.7 in /usr/local/lib/python3.11/dist-packages (from pandas->datasets) (2025.2)\n",
            "Requirement already satisfied: aiohappyeyeballs>=2.3.0 in /usr/local/lib/python3.11/dist-packages (from aiohttp!=4.0.0a0,!=4.0.0a1->fsspec[http]<=2025.3.0,>=2023.1.0->datasets) (2.6.1)\n",
            "Requirement already satisfied: aiosignal>=1.1.2 in /usr/local/lib/python3.11/dist-packages (from aiohttp!=4.0.0a0,!=4.0.0a1->fsspec[http]<=2025.3.0,>=2023.1.0->datasets) (1.3.2)\n",
            "Requirement already satisfied: attrs>=17.3.0 in /usr/local/lib/python3.11/dist-packages (from aiohttp!=4.0.0a0,!=4.0.0a1->fsspec[http]<=2025.3.0,>=2023.1.0->datasets) (25.3.0)\n",
            "Requirement already satisfied: frozenlist>=1.1.1 in /usr/local/lib/python3.11/dist-packages (from aiohttp!=4.0.0a0,!=4.0.0a1->fsspec[http]<=2025.3.0,>=2023.1.0->datasets) (1.7.0)\n",
            "Requirement already satisfied: multidict<7.0,>=4.5 in /usr/local/lib/python3.11/dist-packages (from aiohttp!=4.0.0a0,!=4.0.0a1->fsspec[http]<=2025.3.0,>=2023.1.0->datasets) (6.4.4)\n",
            "Requirement already satisfied: propcache>=0.2.0 in /usr/local/lib/python3.11/dist-packages (from aiohttp!=4.0.0a0,!=4.0.0a1->fsspec[http]<=2025.3.0,>=2023.1.0->datasets) (0.3.2)\n",
            "Requirement already satisfied: yarl<2.0,>=1.17.0 in /usr/local/lib/python3.11/dist-packages (from aiohttp!=4.0.0a0,!=4.0.0a1->fsspec[http]<=2025.3.0,>=2023.1.0->datasets) (1.20.1)\n",
            "Requirement already satisfied: six>=1.5 in /usr/local/lib/python3.11/dist-packages (from python-dateutil>=2.8.2->pandas->datasets) (1.17.0)\n",
            "Using cached fsspec-2025.3.0-py3-none-any.whl (193 kB)\n",
            "Installing collected packages: fsspec\n",
            "  Attempting uninstall: fsspec\n",
            "    Found existing installation: fsspec 2025.3.2\n",
            "    Uninstalling fsspec-2025.3.2:\n",
            "      Successfully uninstalled fsspec-2025.3.2\n",
            "\u001b[31mERROR: pip's dependency resolver does not currently take into account all the packages that are installed. This behaviour is the source of the following dependency conflicts.\n",
            "gcsfs 2025.3.2 requires fsspec==2025.3.2, but you have fsspec 2025.3.0 which is incompatible.\u001b[0m\u001b[31m\n",
            "\u001b[0mSuccessfully installed fsspec-2025.3.0\n",
            "Requirement already satisfied: transformers in /usr/local/lib/python3.11/dist-packages (4.52.4)\n",
            "Requirement already satisfied: filelock in /usr/local/lib/python3.11/dist-packages (from transformers) (3.18.0)\n",
            "Requirement already satisfied: huggingface-hub<1.0,>=0.30.0 in /usr/local/lib/python3.11/dist-packages (from transformers) (0.33.0)\n",
            "Requirement already satisfied: numpy>=1.17 in /usr/local/lib/python3.11/dist-packages (from transformers) (2.0.2)\n",
            "Requirement already satisfied: packaging>=20.0 in /usr/local/lib/python3.11/dist-packages (from transformers) (24.2)\n",
            "Requirement already satisfied: pyyaml>=5.1 in /usr/local/lib/python3.11/dist-packages (from transformers) (6.0.2)\n",
            "Requirement already satisfied: regex!=2019.12.17 in /usr/local/lib/python3.11/dist-packages (from transformers) (2024.11.6)\n",
            "Requirement already satisfied: requests in /usr/local/lib/python3.11/dist-packages (from transformers) (2.32.3)\n",
            "Requirement already satisfied: tokenizers<0.22,>=0.21 in /usr/local/lib/python3.11/dist-packages (from transformers) (0.21.1)\n",
            "Requirement already satisfied: safetensors>=0.4.3 in /usr/local/lib/python3.11/dist-packages (from transformers) (0.5.3)\n",
            "Requirement already satisfied: tqdm>=4.27 in /usr/local/lib/python3.11/dist-packages (from transformers) (4.67.1)\n",
            "Requirement already satisfied: fsspec>=2023.5.0 in /usr/local/lib/python3.11/dist-packages (from huggingface-hub<1.0,>=0.30.0->transformers) (2025.3.0)\n",
            "Requirement already satisfied: typing-extensions>=3.7.4.3 in /usr/local/lib/python3.11/dist-packages (from huggingface-hub<1.0,>=0.30.0->transformers) (4.14.0)\n",
            "Requirement already satisfied: hf-xet<2.0.0,>=1.1.2 in /usr/local/lib/python3.11/dist-packages (from huggingface-hub<1.0,>=0.30.0->transformers) (1.1.4)\n",
            "Requirement already satisfied: charset-normalizer<4,>=2 in /usr/local/lib/python3.11/dist-packages (from requests->transformers) (3.4.2)\n",
            "Requirement already satisfied: idna<4,>=2.5 in /usr/local/lib/python3.11/dist-packages (from requests->transformers) (3.10)\n",
            "Requirement already satisfied: urllib3<3,>=1.21.1 in /usr/local/lib/python3.11/dist-packages (from requests->transformers) (2.4.0)\n",
            "Requirement already satisfied: certifi>=2017.4.17 in /usr/local/lib/python3.11/dist-packages (from requests->transformers) (2025.6.15)\n"
          ]
        }
      ],
      "source": [
        "# If you get an \"Error\" from pip's dependency resolver but the cell complets fine, this is not an issue, you can continue :)\n",
        "!pip -q install torch\n",
        "!pip -q install gcsfs\n",
        "!pip -q install tqdm\n",
        "!pip -q install huggingface_hub\n",
        "!pip -q install librosa\n",
        "!pip install --upgrade datasets\n",
        "!pip install --upgrade transformers"
      ]
    },
    {
      "cell_type": "code",
      "execution_count": 4,
      "id": "5e8dc5ba",
      "metadata": {
        "id": "5e8dc5ba"
      },
      "outputs": [],
      "source": [
        "# Decide on the name of your model here!\n",
        "# You will need your HF user name and the name you want to give to it\n",
        "# For me, this would be \"lusxvr/nanoALM\"\n",
        "# hf_model_name = \"YOUR_HF_USER_NAME/nanoALM\""
      ]
    },
    {
      "cell_type": "code",
      "execution_count": 5,
      "id": "OTsl1jZrMeaJ",
      "metadata": {
        "colab": {
          "base_uri": "https://localhost:8080/"
        },
        "id": "OTsl1jZrMeaJ",
        "outputId": "6ac7c64d-0b47-4ff2-b5f9-f643ca8ede46"
      },
      "outputs": [
        {
          "name": "stdout",
          "output_type": "stream",
          "text": [
            "Using device: cuda\n"
          ]
        }
      ],
      "source": [
        "# nanoALM Imports (please check out the implementations in detail, that's where all the interessting stuff is!)\n",
        "from data.collators import AudioQACollator, SAVEECollator\n",
        "from data.datasets import SAVEEDataset, AudioQADataset\n",
        "from data.processors import get_audio_processor\n",
        "from data.processors import get_tokenizer\n",
        "from models.audio_language_model import AudioLanguageModel\n",
        "import models.utils as utils\n",
        "\n",
        "# Libraries\n",
        "import math\n",
        "import time\n",
        "import torch\n",
        "from tqdm import tqdm\n",
        "import torch.optim as optim\n",
        "import matplotlib.pyplot as plt\n",
        "from dataclasses import dataclass\n",
        "from torch.utils.data import DataLoader\n",
        "from datasets import load_dataset, concatenate_datasets\n",
        "\n",
        "#Otherwise, the tokenizer will through a warning\n",
        "import os\n",
        "os.environ[\"TOKENIZERS_PARALLELISM\"] = \"false\"\n",
        "\n",
        "torch.autograd.set_detect_anomaly(True)\n",
        "\n",
        "if torch.cuda.is_available():\n",
        "    device = \"cuda\"\n",
        "elif hasattr(torch.backends, \"mps\") and torch.backends.mps.is_available():\n",
        "    device = \"mps\"\n",
        "else:\n",
        "    device = \"cpu\"\n",
        "print(f\"Using device: {device}\")\n",
        "\n",
        "torch.manual_seed(0)\n",
        "torch.cuda.manual_seed_all(0)\n",
        "trained_model = None\n",
        "\n",
        "# To reload the modules if you change something in the code\n",
        "%reload_ext autoreload\n",
        "%autoreload 2"
      ]
    },
    {
      "cell_type": "markdown",
      "id": "4Vzo03IzN3Zf",
      "metadata": {
        "id": "4Vzo03IzN3Zf"
      },
      "source": [
        "### Get the dataloaders"
      ]
    },
    {
      "cell_type": "code",
      "execution_count": 6,
      "id": "3Zzn2FI2N7Aj",
      "metadata": {
        "id": "3Zzn2FI2N7Aj"
      },
      "outputs": [],
      "source": [
        "def get_dataloaders(train_cfg, alm_cfg):\n",
        "    # Create datasets\n",
        "    audio_processor = get_audio_processor(alm_cfg)\n",
        "    tokenizer = get_tokenizer(alm_cfg.lm_tokenizer)\n",
        "\n",
        "    # text = \"splitting datasets, disable in get_dataloaders function\"\n",
        "    # print(f\"\\n\\033[38;5;05m{text}05m\\033[0m\")\n",
        "    # Load and combine all training datasets\n",
        "    combined_train_data = []\n",
        "    for dataset_name in train_cfg.train_dataset_name:\n",
        "        train_ds = load_dataset(\n",
        "        path = train_cfg.train_dataset_path,\n",
        "        name = dataset_name,\n",
        "    )\n",
        "        combined_train_data.append(train_ds['train'])\n",
        "    train_ds = concatenate_datasets(combined_train_data)\n",
        "\n",
        "    test_ds = load_dataset(train_cfg.test_dataset_path)\n",
        "    train_ds = train_ds.shuffle(seed=0) # Shuffle the training dataset, so train and val get equal contributions from all concatinated datasets\n",
        "\n",
        "    # Apply cutoff if specified\n",
        "    if train_cfg.data_cutoff_idx is None:\n",
        "        total_samples = len(train_ds)  # Use the entire dataset\n",
        "    else:\n",
        "        total_samples = min(len(train_ds), train_cfg.data_cutoff_idx)\n",
        "\n",
        "    val_size = int(total_samples * train_cfg.val_ratio)\n",
        "    train_size = total_samples - val_size\n",
        "\n",
        "    train_dataset = AudioQADataset(train_ds.select(range(train_size)), tokenizer, audio_processor)\n",
        "    val_dataset = AudioQADataset(train_ds.select(range(train_size, total_samples)), tokenizer, audio_processor)\n",
        "    test_dataset = SAVEEDataset(test_ds, tokenizer, audio_processor)\n",
        "\n",
        "    # Create collators\n",
        "    aqa_collator = AudioQACollator(tokenizer, alm_cfg.lm_max_length)\n",
        "    savee_collator = SAVEECollator(tokenizer)\n",
        "\n",
        "    # Create dataloaders\n",
        "    train_loader = DataLoader(\n",
        "        train_dataset,\n",
        "        batch_size=train_cfg.batch_size,\n",
        "        shuffle=True,\n",
        "        collate_fn=aqa_collator,\n",
        "        num_workers=2,\n",
        "        pin_memory=True,\n",
        "        drop_last=True,\n",
        "    )\n",
        "\n",
        "    val_loader = DataLoader(\n",
        "        val_dataset,\n",
        "        batch_size=train_cfg.batch_size,\n",
        "        shuffle=False,\n",
        "        collate_fn=aqa_collator,\n",
        "        num_workers=2,\n",
        "        pin_memory=True,\n",
        "        drop_last=True,\n",
        "    )\n",
        "\n",
        "    test_loader = DataLoader(\n",
        "        test_dataset,\n",
        "        batch_size=train_cfg.savee_batch_size,\n",
        "        shuffle=False,\n",
        "        collate_fn=savee_collator,\n",
        "        pin_memory=True,\n",
        "        )\n",
        "\n",
        "    return train_loader, val_loader, test_loader"
      ]
    },
    {
      "cell_type": "markdown",
      "id": "D7NIuEDuOuuJ",
      "metadata": {
        "id": "D7NIuEDuOuuJ"
      },
      "source": [
        "### Prepare the testing function"
      ]
    },
    {
      "cell_type": "code",
      "execution_count": 7,
      "id": "9fnh6wOlOzat",
      "metadata": {
        "id": "9fnh6wOlOzat"
      },
      "outputs": [],
      "source": [
        "def test_savee(model, tokenizer, test_loader, device):\n",
        "    total_examples = 0\n",
        "    correct_predictions = 0\n",
        "    with torch.no_grad():\n",
        "        for batch in test_loader:\n",
        "            audio = batch['audios'].to(device)\n",
        "            input_ids = batch['input_ids'].to(device)\n",
        "            labels = batch['labels'].to(device)\n",
        "            attention_mask = batch['attention_mask'].to(device)\n",
        "\n",
        "            correct_answer = tokenizer.batch_decode(labels, skip_special_tokens=True)\n",
        "\n",
        "            gen = model.generate(input_ids, audio, attention_mask)\n",
        "            model_output = tokenizer.batch_decode(gen, skip_special_tokens=True)\n",
        "\n",
        "            is_correct = utils.check_multiple_choice_with_regex(model_output, correct_answer)\n",
        "\n",
        "            total_examples += len(is_correct)\n",
        "            if is_correct:\n",
        "                correct_predictions += sum(is_correct)\n",
        "    accuracy = correct_predictions / total_examples if total_examples > 0 else 0\n",
        "    return accuracy"
      ]
    },
    {
      "cell_type": "markdown",
      "id": "fe359194",
      "metadata": {
        "id": "fe359194"
      },
      "source": [
        "### Add debug"
      ]
    },
    {
      "cell_type": "code",
      "execution_count": 8,
      "id": "5d7b7e46",
      "metadata": {
        "id": "5d7b7e46"
      },
      "outputs": [],
      "source": [
        "# 在训练开始前添加这个检查函数\n",
        "def debug_model_dimensions(model, input_ids, audio):\n",
        "    \"\"\"调试模型各层的维度\"\"\"\n",
        "    print(\"=== Model Dimension Debug ===\")\n",
        "\n",
        "    # 检查音频编码器\n",
        "    audio_features = model.audio_encoder.forward(audio, output_hidden_states=True)\n",
        "    print(f\"Audio features shape: {audio_features.shape}\")\n",
        "\n",
        "    # 检查模态投影器\n",
        "    audio_embeds = model.MP(audio_features)\n",
        "    print(f\"Audio embeds shape: {audio_embeds.shape}\")\n",
        "\n",
        "    # 检查文本嵌入\n",
        "    text_embeds = model.decoder.token_embedding(input_ids)\n",
        "    print(f\"Text embeds shape: {text_embeds.shape}\")\n",
        "\n",
        "    # 检查拼接后的嵌入\n",
        "    inputs_embeds = torch.cat([audio_embeds, text_embeds], dim=1)\n",
        "    print(f\"Combined embeds shape: {inputs_embeds.shape}\")\n",
        "\n",
        "    # 检查语言模型输出\n",
        "    logits = model.decoder(inputs_embeds)\n",
        "    print(f\"Logits shape: {logits.shape}\")\n",
        "    print(f\"Vocab size (last dim): {logits.shape[-1]}\")\n",
        "\n",
        "    # 检查语言模型配置\n",
        "    print(f\"LM vocab size config: {model.cfg.lm_vocab_size}\")\n",
        "    print(f\"Decoder vocab size: {getattr(model.decoder, 'vocab_size', 'Not found')}\")\n",
        "\n",
        "    return logits.shape[-1]\n",
        "\n",
        "# 在训练循环开始前调用\n",
        "# vocab_size = debug_model_dimensions(model, input_ids, audios)"
      ]
    },
    {
      "cell_type": "code",
      "execution_count": 9,
      "id": "2d48d0df",
      "metadata": {
        "id": "2d48d0df"
      },
      "outputs": [],
      "source": [
        "def debug_training_step(model, input_ids, audios, attention_mask, labels):\n",
        "    \"\"\"调试训练步骤\"\"\"\n",
        "    # 添加这些调试行：\n",
        "    print(f\"Batch debug - input_ids shape: {input_ids.shape}, max: {input_ids.max().item()}\")\n",
        "    print(f\"Batch debug - labels shape: {labels.shape}, max: {labels.max().item()}\")\n",
        "    print(f\"Batch debug - Model vocab config: {model.cfg.lm_vocab_size}\")\n",
        "\n",
        "    # 检查decoder的实际vocab_size\n",
        "    if hasattr(model.decoder, 'head') and hasattr(model.decoder.head, 'out_features'):\n",
        "        print(f\"Decoder head in_features: {model.decoder.head.in_features}\")\n",
        "        print(f\"Decoder head out_features: {model.decoder.head.out_features}\")"
      ]
    },
    {
      "cell_type": "markdown",
      "id": "_F8u3MJ6PAfd",
      "metadata": {
        "id": "_F8u3MJ6PAfd"
      },
      "source": [
        "### Prepare the training loop"
      ]
    },
    {
      "cell_type": "markdown",
      "id": "2f3dce46",
      "metadata": {
        "id": "2f3dce46"
      },
      "source": [
        "#### Supervised learning and Generative Training 監督學習生成式訓練"
      ]
    },
    {
      "cell_type": "code",
      "execution_count": 10,
      "id": "KxOtMU5zPD-4",
      "metadata": {
        "id": "KxOtMU5zPD-4"
      },
      "outputs": [],
      "source": [
        "def get_lr(it, max_lr, max_steps):\n",
        "    min_lr = max_lr * 0.1\n",
        "    warmup_steps = max_steps * 0.03\n",
        "    # 1) linear warmup for warmup_iters steps\n",
        "    if it < warmup_steps:\n",
        "        return max_lr * (it+1) / warmup_steps\n",
        "    # 2) if it > lr_decay_iters, return min learning rate\n",
        "    if it > max_steps:\n",
        "        return min_lr\n",
        "    # 3) in between, use cosine decay down to min learning rate\n",
        "    decay_ratio = (it - warmup_steps) / (max_steps - warmup_steps)\n",
        "    assert 0 <= decay_ratio <= 1\n",
        "    coeff = 0.5 * (1.0 + math.cos(math.pi * decay_ratio)) # coeff starts at 1 and goes to 0\n",
        "    return min_lr + coeff * (max_lr - min_lr)\n",
        "\n",
        "def train(train_cfg, alm_cfg):\n",
        "    train_loader, val_loader, test_loader = get_dataloaders(train_cfg, alm_cfg)\n",
        "    tokenizer = get_tokenizer(alm_cfg.lm_tokenizer)\n",
        "\n",
        "    # Initialize model\n",
        "    if train_cfg.resume_from_alm_checkpoint:\n",
        "        model = AudioLanguageModel.from_pretrained(alm_cfg.alm_checkpoint_path)\n",
        "    else:\n",
        "        model = AudioLanguageModel(alm_cfg)\n",
        "\n",
        "    print(f\"nanoALM initialized with {sum(p.numel() for p in model.parameters()):,} parameters\")\n",
        "    print(f\"Training summary: {len(train_loader.dataset)} samples, {len(train_loader)} batches/epoch, batch size {train_cfg.batch_size}\")\n",
        "\n",
        "    # Define optimizer groups\n",
        "    param_groups = [{'params': model.MP.parameters(), 'lr': train_cfg.lr_mp},\n",
        "                    {'params': list(model.decoder.parameters()) + list(model.audio_encoder.parameters()), 'lr': train_cfg.lr_backbones}]\n",
        "    optimizer = optim.AdamW(param_groups)\n",
        "\n",
        "    device = torch.device(\"cuda\" if torch.cuda.is_available() else \"cpu\")\n",
        "    model.to(device)\n",
        "    if train_cfg.compile:\n",
        "        model = torch.compile(model)\n",
        "\n",
        "    epoch_times = []\n",
        "    batch_losses = []\n",
        "    val_losses = []\n",
        "    val_plot_steps = []\n",
        "    best_accuracy = 0\n",
        "    global_step = 0\n",
        "    for epoch in range(train_cfg.epochs):\n",
        "        epoch_start_time = time.time()\n",
        "        model.train()\n",
        "        total_train_loss = 0\n",
        "        total_tokens_processed = 0\n",
        "\n",
        "        for batch in tqdm(train_loader):\n",
        "            batch_start_time = time.time()\n",
        "            audios = batch[\"audio\"].to(device)\n",
        "            input_ids = batch[\"input_ids\"].to(device)\n",
        "            labels = batch[\"labels\"].to(device)\n",
        "            attention_mask = batch[\"attention_mask\"].to(device)\n",
        "\n",
        "            # debug_model_dimensions(model, input_ids, audios)  # Debug model dimensions with dummy data\n",
        "            optimizer.zero_grad()\n",
        "\n",
        "            with torch.autocast(device_type='cuda', dtype=torch.float16): # Mixed precision training\n",
        "                # debug_training_step(model, input_ids, audios, attention_mask, labels)  # Debug training step\n",
        "                _, loss = model(input_ids, audios, attention_mask=attention_mask, targets=labels)\n",
        "\n",
        "            loss.backward()\n",
        "\n",
        "            adj_lr_mp = get_lr(global_step, train_cfg.lr_mp, len(train_loader) * train_cfg.epochs)\n",
        "            adj_lr_backbones = get_lr(global_step, train_cfg.lr_backbones, len(train_loader) * train_cfg.epochs)\n",
        "            optimizer.param_groups[0]['lr'] = adj_lr_mp\n",
        "            optimizer.param_groups[1]['lr'] = adj_lr_backbones\n",
        "\n",
        "            optimizer.step()\n",
        "\n",
        "            batch_loss = loss.item()\n",
        "            total_train_loss += batch_loss\n",
        "            batch_losses.append(batch_loss)\n",
        "\n",
        "            num_tokens = torch.sum(attention_mask).item()\n",
        "            # 修改音頻token計算：根據實際的音頻處理方式\n",
        "            audio_tokens = audios.shape[0] * alm_cfg.mp_target_length  # 使用配置的目標長度\n",
        "            num_tokens += audio_tokens\n",
        "            total_tokens_processed += num_tokens\n",
        "\n",
        "            batch_end_time = time.time()\n",
        "            batch_duration = batch_end_time - batch_start_time\n",
        "            tokens_per_second = num_tokens / batch_duration\n",
        "\n",
        "            if global_step % 5 == 0:\n",
        "                model.eval()\n",
        "                torch.cuda.empty_cache()  # Clear GPU memory\n",
        "                with torch.no_grad():\n",
        "                    total_val_loss = 0\n",
        "                    for batch in val_loader:\n",
        "                        audios = batch[\"audio\"].to(device)\n",
        "                        input_ids = batch[\"input_ids\"].to(device)\n",
        "                        labels = batch[\"labels\"].to(device)\n",
        "                        attention_mask = batch[\"attention_mask\"].to(device)\n",
        "\n",
        "                        with torch.amp.autocast(device_type='cuda', dtype=torch.float16):\n",
        "                            # debug_training_step(model, input_ids, audios, attention_mask, labels)  # Debug training step\n",
        "                            _, loss = model(input_ids, audios, attention_mask=attention_mask, targets=labels)\n",
        "\n",
        "                        total_val_loss += loss.item()\n",
        "                    avg_val_loss = total_val_loss / len(val_loader)\n",
        "                    val_losses.append(avg_val_loss)\n",
        "                    val_plot_steps.append(global_step)\n",
        "                epoch_accuracy = 0\n",
        "                if train_cfg.eval_in_epochs:\n",
        "                    epoch_accuracy = test_savee(model, tokenizer, test_loader, device)\n",
        "                    if epoch_accuracy > best_accuracy:\n",
        "                      best_accuracy = epoch_accuracy\n",
        "                      model.save_pretrained(save_directory=alm_cfg.alm_checkpoint_path)\n",
        "                    print(f\"\\nStep: {global_step}, Loss: {batch_loss:.4f}, Val Loss: {avg_val_loss:.4f}, Tokens/s: {tokens_per_second:.2f}, Accuracy: {epoch_accuracy:.4f}\")\n",
        "                model.train()\n",
        "\n",
        "            global_step += 1\n",
        "\n",
        "        epoch_end_time = time.time()\n",
        "        epoch_duration = epoch_end_time - epoch_start_time\n",
        "        epoch_times.append(epoch_duration)\n",
        "\n",
        "        epoch_tokens_per_second = total_tokens_processed / epoch_duration\n",
        "\n",
        "        print(f\"Epoch {epoch+1}/{train_cfg.epochs} | Train Loss: {avg_train_loss:.4f} | Val Loss: {avg_val_loss:.4f} | Time: {epoch_duration:.2f}s | T/s: {epoch_tokens_per_second:.2f}\")\n",
        "\n",
        "    # Summary Statistics\n",
        "    if not train_cfg.eval_in_epochs:\n",
        "        model.save_pretrained(save_directory=alm_cfg.alm_checkpoint_path)\n",
        "    try:\n",
        "        model.push_to_hub(hf_model_name)\n",
        "    except Exception as e:\n",
        "        print(f\"Error pushing model to hub: {e}\")\n",
        "\n",
        "    avg_epoch_time = sum(epoch_times) / len(epoch_times)\n",
        "    total_training_time = sum(epoch_times)\n",
        "    total_samples_processed = len(train_loader.dataset) * train_cfg.epochs\n",
        "    avg_time_per_sample = total_training_time / total_samples_processed\n",
        "    print(f\"Average time per epoch: {avg_epoch_time:.2f}s\")\n",
        "    print(f\"Average time per sample: {avg_time_per_sample:.4f}s\")\n",
        "\n",
        "    plt.plot(batch_losses, label='Train Loss')\n",
        "    plt.plot(val_plot_steps, val_losses, label='Val Loss')\n",
        "    plt.xlabel('Batch')\n",
        "    plt.ylabel('Loss')\n",
        "    plt.title('Loss Curve')\n",
        "    plt.grid(True)\n",
        "    plt.legend()\n",
        "    plt.show()\n",
        "\n",
        "    return model\n",
        "\n",
        "    # With this code you can test the accuracy of the model on the SAVEE dataset\n",
        "    # But if you only train with few samples, the accuracy will be very low\n",
        "    # print(\"Testing SAVEE Accuracy:\")\n",
        "    # accuracy = test_savee(model, tokenizer, test_loader, device)\n",
        "    # print(f\"SAVEE Accuracy: {accuracy:.4f}\")"
      ]
    },
    {
      "cell_type": "markdown",
      "id": "04da5b01",
      "metadata": {
        "id": "04da5b01"
      },
      "source": [
        "#### Three-stage training (contrast training, generative training, instruction fine-tuning) 三段式訓練(對比訓練, 生成式訓練, 指令微調)"
      ]
    },
    {
      "cell_type": "code",
      "execution_count": null,
      "id": "fbb323c8",
      "metadata": {
        "id": "fbb323c8"
      },
      "outputs": [],
      "source": [
        "import torch.nn.functional as F\n",
        "import torch.nn as nn\n",
        "\n",
        "def contrastive_loss(audio_embeds, text_embeds, temperature=0.07):\n",
        "    \"\"\"对比学习损失\"\"\"\n",
        "    # 池化到固定维度\n",
        "    audio_pooled = audio_embeds.mean(dim=1)  # [B, hidden_dim]\n",
        "    text_pooled = text_embeds.mean(dim=1)    # [B, hidden_dim]\n",
        "\n",
        "    # 归一化\n",
        "    audio_pooled = F.normalize(audio_pooled, dim=-1)\n",
        "    text_pooled = F.normalize(text_pooled, dim=-1)\n",
        "\n",
        "    # 计算相似度矩阵\n",
        "    logits = torch.matmul(audio_pooled, text_pooled.T) / temperature\n",
        "\n",
        "    # 对角线为正样本\n",
        "    labels = torch.arange(logits.size(0)).to(logits.device)\n",
        "\n",
        "    # 双向对比损失\n",
        "    loss_a2t = F.cross_entropy(logits, labels)\n",
        "    loss_t2a = F.cross_entropy(logits.T, labels)\n",
        "\n",
        "    return (loss_a2t + loss_t2a) / 2\n",
        "\n",
        "def stable_contrastive_loss(audio_embeds, text_embeds, temperature=0.1):\n",
        "    \"\"\"更稳定的对比学习损失\"\"\"\n",
        "    # 使用多种池化策略的组合\n",
        "    batch_size = audio_embeds.shape[0]\n",
        "    \n",
        "    # 1. 均值池化\n",
        "    audio_mean = audio_embeds.mean(dim=1)\n",
        "    text_mean = text_embeds.mean(dim=1)\n",
        "    \n",
        "    # 2. 最大池化  \n",
        "    audio_max = audio_embeds.max(dim=1)[0]\n",
        "    text_max = text_embeds.max(dim=1)[0]\n",
        "    \n",
        "    # 3. 加权池化（使用注意力权重）\n",
        "    audio_weights = F.softmax(audio_embeds.sum(dim=-1), dim=1).unsqueeze(-1)\n",
        "    audio_weighted = (audio_embeds * audio_weights).sum(dim=1)\n",
        "    \n",
        "    text_weights = F.softmax(text_embeds.sum(dim=-1), dim=1).unsqueeze(-1)\n",
        "    text_weighted = (text_embeds * text_weights).sum(dim=1)\n",
        "    \n",
        "    # 组合特征\n",
        "    audio_pooled = torch.cat([audio_mean, audio_max, audio_weighted], dim=-1)\n",
        "    text_pooled = torch.cat([text_mean, text_max, text_weighted], dim=-1)\n",
        "    \n",
        "    # L2归一化\n",
        "    audio_pooled = F.normalize(audio_pooled, p=2, dim=-1)\n",
        "    text_pooled = F.normalize(text_pooled, p=2, dim=-1)\n",
        "    \n",
        "    # 计算相似度矩阵\n",
        "    sim_matrix = torch.matmul(audio_pooled, text_pooled.T) / temperature\n",
        "    \n",
        "    # 标签\n",
        "    labels = torch.arange(batch_size).to(sim_matrix.device)\n",
        "    \n",
        "    # 对称对比损失\n",
        "    loss_a2t = F.cross_entropy(sim_matrix, labels, label_smoothing=0.1)\n",
        "    loss_t2a = F.cross_entropy(sim_matrix.T, labels, label_smoothing=0.1)\n",
        "    \n",
        "    # 添加特征多样性正则化\n",
        "    diversity_loss = -torch.mean(torch.var(audio_pooled, dim=0)) - torch.mean(torch.var(text_pooled, dim=0))\n",
        "    \n",
        "    total_loss = (loss_a2t + loss_t2a) / 2 + 0.01 * diversity_loss\n",
        "    \n",
        "    return total_loss\n",
        "\n",
        "def train_step1_alignment(train_cfg, alm_cfg):\n",
        "    \"\"\"第一步：模态投影器对齐训练（包含预训练阶段）\"\"\"\n",
        "    print(\"=== Stage 1: Modality Projector Alignment (with Pretraining) ===\")\n",
        "    \n",
        "    train_loader, val_loader, test_loader = get_dataloaders(train_cfg, alm_cfg)\n",
        "    tokenizer = get_tokenizer(alm_cfg.lm_tokenizer)\n",
        "\n",
        "    model = AudioLanguageModel(alm_cfg)\n",
        "    \n",
        "    # 冻结参数\n",
        "    for param in model.audio_encoder.parameters():\n",
        "        param.requires_grad = False\n",
        "    for param in model.decoder.parameters():\n",
        "        param.requires_grad = False\n",
        "    \n",
        "    device = torch.device(\"cuda\" if torch.cuda.is_available() else \"cpu\")\n",
        "    model.to(device)\n",
        "    \n",
        "    # =================== Stage 0.5: MP预训练 ===================\n",
        "    print(\"--- Stage 0.5: MP Pretraining with Reconstruction Loss ---\")\n",
        "    \n",
        "    # 预训练优化器（使用较高学习率）\n",
        "    pretrain_optimizer = optim.AdamW(model.MP.parameters(), lr=train_cfg.lr_mp * 2)\n",
        "    \n",
        "    for epoch in range(3):  # 预训练3个epoch\n",
        "        model.train()\n",
        "        total_pretrain_loss = 0\n",
        "        \n",
        "        for batch in tqdm(train_loader, desc=f\"MP Pretrain Epoch {epoch+1}\"):\n",
        "            audios = batch[\"audio\"].to(device)\n",
        "            \n",
        "            pretrain_optimizer.zero_grad()\n",
        "            \n",
        "            with torch.autocast(device_type='cuda', dtype=torch.float16):\n",
        "                # 获取音频特征\n",
        "                input_features = audios.to(device)\n",
        "                with torch.no_grad():\n",
        "                    encoder_outputs = model.audio_encoder.encoder(input_features, output_hidden_states=True)\n",
        "                \n",
        "                audio_features = encoder_outputs.last_hidden_state  # [B, T, D]\n",
        "                \n",
        "                # 通过MP投影\n",
        "                audio_embeds = model.MP(audio_features)  # [B, target_length, lm_hidden_dim]\n",
        "                \n",
        "                # 创建重构目标：将原始特征池化到目标长度\n",
        "                # 方法1：自适应平均池化\n",
        "                target_features = F.adaptive_avg_pool1d(\n",
        "                    audio_features.transpose(1, 2),  # [B, D, T]\n",
        "                    audio_embeds.shape[1]  # target_length\n",
        "                ).transpose(1, 2)  # [B, target_length, D]\n",
        "                \n",
        "                # 通过线性层调整维度匹配\n",
        "                if not hasattr(model, 'pretrain_proj'):\n",
        "                    model.pretrain_proj = nn.Linear(\n",
        "                        audio_features.shape[-1], \n",
        "                        audio_embeds.shape[-1]\n",
        "                    ).to(device)\n",
        "                \n",
        "                target_embeds = model.pretrain_proj(target_features)\n",
        "                \n",
        "                # MSE重构损失\n",
        "                recon_loss = F.mse_loss(audio_embeds, target_embeds)\n",
        "            \n",
        "            recon_loss.backward()\n",
        "            torch.nn.utils.clip_grad_norm_(model.MP.parameters(), max_norm=1.0)\n",
        "            pretrain_optimizer.step()\n",
        "            \n",
        "            total_pretrain_loss += recon_loss.item()\n",
        "        \n",
        "        avg_pretrain_loss = total_pretrain_loss / len(train_loader)\n",
        "        print(f\"MP Pretrain Epoch {epoch+1}: Reconstruction Loss {avg_pretrain_loss:.4f}\")\n",
        "    \n",
        "    print(\"MP Pretraining completed! Starting contrastive learning...\")\n",
        "    \n",
        "    # =================== Stage 1: 对比学习 ===================\n",
        "    \n",
        "    # 对比学习优化器（使用较低学习率）\n",
        "    optimizer = optim.AdamW(model.MP.parameters(), lr=train_cfg.lr_mp * 0.5, weight_decay=0.01)\n",
        "    \n",
        "    # 学习率调度器\n",
        "    total_steps = len(train_loader) * train_cfg.stage1_epochs\n",
        "    scheduler = optim.lr_scheduler.OneCycleLR(\n",
        "        optimizer,\n",
        "        max_lr=train_cfg.lr_mp * 0.5,\n",
        "        total_steps=total_steps,\n",
        "        pct_start=0.1,\n",
        "        anneal_strategy='cos'\n",
        "    )\n",
        "\n",
        "    batch_losses = []\n",
        "    best_loss = float('inf')\n",
        "    global_step = 0\n",
        "    \n",
        "    for epoch in range(train_cfg.stage1_epochs):\n",
        "        model.train()\n",
        "        total_train_loss = 0\n",
        "        \n",
        "        for batch in tqdm(train_loader, desc=f\"Stage1 Epoch {epoch+1}\"):\n",
        "            audios = batch[\"audio\"].to(device)\n",
        "            input_ids = batch[\"input_ids\"].to(device)\n",
        "            \n",
        "            optimizer.zero_grad()\n",
        "            \n",
        "            with torch.autocast(device_type='cuda', dtype=torch.float16):\n",
        "                # 音频编码\n",
        "                input_features = audios.to(device)\n",
        "                with torch.no_grad():\n",
        "                    encoder_outputs = model.audio_encoder.encoder(input_features, output_hidden_states=True)\n",
        "                \n",
        "                audio_features = encoder_outputs.last_hidden_state\n",
        "                audio_embeds = model.MP(audio_features)\n",
        "                \n",
        "                # 文本编码\n",
        "                text_embeds = model.decoder.token_embedding(input_ids[:, :-1])\n",
        "                \n",
        "                # 对比学习损失\n",
        "                loss = stable_contrastive_loss(audio_embeds, text_embeds)\n",
        "            \n",
        "            loss.backward()\n",
        "            torch.nn.utils.clip_grad_norm_(model.MP.parameters(), max_norm=1.0)\n",
        "            optimizer.step()\n",
        "            scheduler.step()\n",
        "            \n",
        "            batch_loss = loss.item()\n",
        "            total_train_loss += batch_loss\n",
        "            batch_losses.append(batch_loss)\n",
        "            \n",
        "            if global_step % 100 == 0:\n",
        "                current_lr = scheduler.get_last_lr()[0]\n",
        "                print(f\"Step {global_step}: Loss {batch_loss:.4f}, LR {current_lr:.2e}\")\n",
        "            \n",
        "            global_step += 1\n",
        "        \n",
        "        avg_train_loss = total_train_loss / len(train_loader)\n",
        "        print(f\"Stage1 Epoch {epoch+1}: Contrastive Loss {avg_train_loss:.4f}\")\n",
        "        \n",
        "        if avg_train_loss < best_loss:\n",
        "            best_loss = avg_train_loss\n",
        "            model.save_pretrained(save_directory=f\"{alm_cfg.alm_checkpoint_path}/stage1_best\")\n",
        "    \n",
        "    # 清理预训练用的临时层\n",
        "    if hasattr(model, 'pretrain_proj'):\n",
        "        delattr(model, 'pretrain_proj')\n",
        "    \n",
        "    model.save_pretrained(save_directory=f\"{alm_cfg.alm_checkpoint_path}/stage1_final\")\n",
        "    print(\"Stage 1 completed!\")\n",
        "    \n",
        "    # 绘制损失曲线\n",
        "    plt.plot(batch_losses, label='Contrastive Loss')\n",
        "    plt.xlabel('Batch')\n",
        "    plt.ylabel('Loss')\n",
        "    plt.title('Stage 1: Loss Curve')\n",
        "    plt.grid(True)\n",
        "    plt.legend()\n",
        "    plt.show()\n",
        "    \n",
        "    return model\n",
        "\n",
        "def train_step2_pretraining(train_cfg, alm_cfg, stage1_model=None):\n",
        "    \"\"\"第二步：语言模型预训练\"\"\"\n",
        "    print(\"=== Stage 2: Language Model Pretraining ===\")\n",
        "\n",
        "    train_loader, val_loader, test_loader = get_dataloaders(train_cfg, alm_cfg)\n",
        "    tokenizer = get_tokenizer(alm_cfg.lm_tokenizer)\n",
        "\n",
        "    # 加载第一阶段模型或从头开始\n",
        "    if stage1_model is not None:\n",
        "        model = stage1_model\n",
        "    else:\n",
        "        try:\n",
        "            model = AudioLanguageModel.from_pretrained(f\"{alm_cfg.alm_checkpoint_path}/stage1_final\")\n",
        "            print(\"Loaded Stage 1 model\")\n",
        "        except:\n",
        "            model = AudioLanguageModel(alm_cfg)\n",
        "            print(\"Starting Stage 2 from scratch\")\n",
        "\n",
        "    # 冻结音频编码器，解冻语言模型和模态投影器\n",
        "    for param in model.audio_encoder.parameters():\n",
        "        param.requires_grad = False\n",
        "    for param in model.decoder.parameters():\n",
        "        param.requires_grad = True\n",
        "    for param in model.MP.parameters():\n",
        "        param.requires_grad = True\n",
        "\n",
        "    trainable_params = sum(p.numel() for p in model.parameters() if p.requires_grad)\n",
        "    print(f\"Stage 2: Training {trainable_params:,} parameters\")\n",
        "\n",
        "    # 不同学习率\n",
        "    param_groups = [\n",
        "        {'params': model.MP.parameters(), 'lr': train_cfg.lr_mp * 0.1},\n",
        "        {'params': model.decoder.parameters(), 'lr': train_cfg.lr_backbones}\n",
        "    ]\n",
        "    optimizer = optim.AdamW(param_groups)\n",
        "\n",
        "    device = torch.device(\"cuda\" if torch.cuda.is_available() else \"cpu\")\n",
        "    model.to(device)\n",
        "    if train_cfg.compile:\n",
        "        model = torch.compile(model)\n",
        "\n",
        "    batch_losses = []\n",
        "    val_losses = []\n",
        "    val_plot_steps = []\n",
        "    best_loss = float('inf')\n",
        "    global_step = 0\n",
        "\n",
        "    for epoch in range(train_cfg.stage2_epochs):\n",
        "        model.train()\n",
        "        total_train_loss = 0\n",
        "\n",
        "        for batch in tqdm(train_loader, desc=f\"Stage2 Epoch {epoch+1}\"):\n",
        "            audios = batch[\"audio\"].to(device)\n",
        "            input_ids = batch[\"input_ids\"].to(device)\n",
        "            labels = batch[\"labels\"].to(device)\n",
        "            attention_mask = batch[\"attention_mask\"].to(device)\n",
        "\n",
        "            optimizer.zero_grad()\n",
        "\n",
        "            with torch.autocast(device_type='cuda', dtype=torch.float16):\n",
        "                # 使用因果语言建模损失\n",
        "                _, loss = model(input_ids, audios, attention_mask=attention_mask, targets=labels)\n",
        "\n",
        "            loss.backward()\n",
        "\n",
        "            # 动态学习率调整\n",
        "            adj_lr_mp = get_lr(global_step, train_cfg.lr_mp * 0.1, len(train_loader) * train_cfg.stage2_epochs)\n",
        "            adj_lr_backbones = get_lr(global_step, train_cfg.lr_backbones, len(train_loader) * train_cfg.stage2_epochs)\n",
        "            optimizer.param_groups[0]['lr'] = adj_lr_mp\n",
        "            optimizer.param_groups[1]['lr'] = adj_lr_backbones\n",
        "\n",
        "            optimizer.step()\n",
        "\n",
        "            batch_loss = loss.item()\n",
        "            total_train_loss += batch_loss\n",
        "            batch_losses.append(batch_loss)\n",
        "\n",
        "            global_step += 1\n",
        "\n",
        "        avg_train_loss = total_train_loss / len(train_loader)\n",
        "\n",
        "        if avg_train_loss < best_loss:\n",
        "            best_loss = avg_train_loss\n",
        "            model.save_pretrained(save_directory=f\"{alm_cfg.alm_checkpoint_path}/stage2_best\")\n",
        "\n",
        "    # 保存第二阶段模型\n",
        "    model.save_pretrained(save_directory=f\"{alm_cfg.alm_checkpoint_path}/stage2_final\")\n",
        "    print(\"Stage 2 completed!\")\n",
        "    plt.plot(batch_losses, label='Train Loss')\n",
        "    plt.plot(val_plot_steps, val_losses, label='Val Loss')\n",
        "    plt.xlabel('Batch')\n",
        "    plt.ylabel('Loss')\n",
        "    plt.title('Loss Curve')\n",
        "    plt.grid(True)\n",
        "    plt.legend()\n",
        "    plt.show()\n",
        "\n",
        "    return model\n",
        "\n",
        "def train_step3_instruction_tuning(train_cfg, alm_cfg, stage2_model=None):\n",
        "    \"\"\"第三步：指令微调\"\"\"\n",
        "    print(\"=== Stage 3: Instruction Tuning ===\")\n",
        "\n",
        "    train_loader, val_loader, test_loader = get_dataloaders(train_cfg, alm_cfg)\n",
        "    tokenizer = get_tokenizer(alm_cfg.lm_tokenizer)\n",
        "\n",
        "    # 加载第二阶段模型\n",
        "    if stage2_model is not None:\n",
        "        model = stage2_model\n",
        "    else:\n",
        "        try:\n",
        "            model = AudioLanguageModel.from_pretrained(f\"{alm_cfg.alm_checkpoint_path}/stage2_final\")\n",
        "            print(\"Loaded Stage 2 model\")\n",
        "        except:\n",
        "            print(\"No Stage 2 model found, using current model\")\n",
        "            model = AudioLanguageModel(alm_cfg)\n",
        "\n",
        "    # 全部解冻，使用较小学习率\n",
        "    for param in model.parameters():\n",
        "        param.requires_grad = True\n",
        "\n",
        "    print(f\"Stage 3: Training all {sum(p.numel() for p in model.parameters()):,} parameters\")\n",
        "\n",
        "    # 更小的学习率\n",
        "    param_groups = [\n",
        "        {'params': model.MP.parameters(), 'lr': train_cfg.lr_mp * 0.01},\n",
        "        {'params': model.decoder.parameters(), 'lr': train_cfg.lr_backbones * 0.1},\n",
        "        {'params': model.audio_encoder.parameters(), 'lr': train_cfg.lr_backbones * 0.01}\n",
        "    ]\n",
        "    optimizer = optim.AdamW(param_groups)\n",
        "\n",
        "    device = torch.device(\"cuda\" if torch.cuda.is_available() else \"cpu\")\n",
        "    model.to(device)\n",
        "    if train_cfg.compile:\n",
        "        model = torch.compile(model)\n",
        "\n",
        "    # 这里可以使用原来的训练循环，但数据应该是指令格式\n",
        "    # 暂时使用相同的数据格式\n",
        "    best_accuracy = 0\n",
        "    global_step = 0\n",
        "\n",
        "    for epoch in range(train_cfg.stage3_epochs):\n",
        "        model.train()\n",
        "        total_train_loss = 0\n",
        "\n",
        "        for batch in tqdm(train_loader, desc=f\"Stage3 Epoch {epoch+1}\"):\n",
        "            audios = batch[\"audio\"].to(device)\n",
        "            input_ids = batch[\"input_ids\"].to(device)\n",
        "            labels = batch[\"labels\"].to(device)\n",
        "            attention_mask = batch[\"attention_mask\"].to(device)\n",
        "\n",
        "            optimizer.zero_grad()\n",
        "\n",
        "            with torch.autocast(device_type='cuda', dtype=torch.float16):\n",
        "                _, loss = model(input_ids, audios, attention_mask=attention_mask, targets=labels)\n",
        "\n",
        "            loss.backward()\n",
        "            optimizer.step()\n",
        "\n",
        "            batch_loss = loss.item()\n",
        "            total_train_loss += batch_loss\n",
        "\n",
        "            if global_step % 50 == 0:\n",
        "                print(f\"Stage3 Step: {global_step}, Instruction Loss: {batch_loss:.4f}\")\n",
        "\n",
        "            global_step += 1\n",
        "\n",
        "        avg_train_loss = total_train_loss / len(train_loader)\n",
        "\n",
        "        # 评估性能\n",
        "        if train_cfg.eval_in_epochs:\n",
        "            accuracy = test_savee(model, tokenizer, test_loader, device)\n",
        "            if accuracy > best_accuracy:\n",
        "                best_accuracy = accuracy\n",
        "                model.save_pretrained(save_directory=f\"{alm_cfg.alm_checkpoint_path}/stage3_best\")\n",
        "            print(f\"Stage3 Epoch {epoch+1}/{train_cfg.stage3_epochs} | Loss: {avg_train_loss:.4f} | Accuracy: {accuracy:.4f}\")\n",
        "        else:\n",
        "            print(f\"Stage3 Epoch {epoch+1}/{train_cfg.stage3_epochs} | Instruction Loss: {avg_train_loss:.4f}\")\n",
        "\n",
        "    # 保存最终模型\n",
        "    model.save_pretrained(save_directory=f\"{alm_cfg.alm_checkpoint_path}/final_model\")\n",
        "    print(\"Stage 3 completed!\")\n",
        "    return model\n",
        "\n",
        "def train_three_stages(train_cfg, alm_cfg):\n",
        "    \"\"\"完整的三阶段训练\"\"\"\n",
        "    print(\"Starting Three-Stage Training Pipeline\")\n",
        "\n",
        "    # 第一阶段：模态投影器对齐\n",
        "    stage1_model = train_step1_alignment(train_cfg, alm_cfg)\n",
        "\n",
        "    # 第二阶段：语言模型预训练\n",
        "    stage2_model = train_step2_pretraining(train_cfg, alm_cfg, stage1_model)\n",
        "\n",
        "    # 第三阶段：指令微调\n",
        "    final_model = train_step3_instruction_tuning(train_cfg, alm_cfg, stage2_model)\n",
        "\n",
        "    print(\"=== Training Pipeline Completed! ===\")\n",
        "    return stage1_model, stage2_model, final_model\n",
        "\n",
        "\n",
        "# # 替换原来的训练调用\n",
        "# alm_cfg = ALMConfig()\n",
        "# train_cfg = TrainConfig()\n",
        "\n",
        "# # 运行三阶段训练\n",
        "# final_model = train_three_stages(train_cfg, alm_cfg)"
      ]
    },
    {
      "cell_type": "markdown",
      "id": "d4HmsEPNQZbh",
      "metadata": {
        "id": "d4HmsEPNQZbh"
      },
      "source": [
        "### Prepare the Configs\n",
        "Instead of using the config.py file in the repo (which was created to run on one H100), we will create our config here to play around with the parameters easier and adapt them to colabs capabilities"
      ]
    },
    {
      "cell_type": "code",
      "execution_count": null,
      "id": "h8FlqtizQdO-",
      "metadata": {
        "id": "h8FlqtizQdO-"
      },
      "outputs": [],
      "source": [
        "@dataclass\n",
        "class ALMConfig:\n",
        "    audio_hidden_dim: int = 768\n",
        "    audio_inter_dim: int = 4 * audio_hidden_dim\n",
        "    audio_patch_size: int = 16  # 音频patch大小（时间步数）\n",
        "    audio_n_heads: int = 12\n",
        "    audio_dropout: float = 0.0\n",
        "    audio_n_blocks: int = 12\n",
        "    audio_ln_eps: float = 1e-6\n",
        "    # audio_model_type: str = 'custom_audio_transformer'\n",
        "    # 如果使用 nvidia/parakeet-tdt-0.6b-v2, 以上參數將不會發生作用\n",
        "    # audio_model_type: str = 'nvidia/parakeet-tdt-0.6b-v2' # asr model for encoder from huggingface\n",
        "    # audio_model_type: str = 'openai/whisper-large-v3' # asr model for encoder from huggingface\n",
        "    audio_model_type: str = 'openai/whisper-small.en' # asr model for encoder from huggingface\n",
        "\n",
        "    # 音频处理相关参数\n",
        "    audio_sample_rate: int = 16000  # 采样率\n",
        "    audio_n_fft: int = 400  # FFT窗口大小\n",
        "    audio_hop_length: int = 160  # 跳跃长度\n",
        "    audio_n_mels: int = 80  # 梅尔滤波器数量\n",
        "    audio_max_length: int = 1500  # 最大时间步数\n",
        "\n",
        "    lm_hidden_dim: int = 576\n",
        "    lm_inter_dim: int = 1536\n",
        "    lm_rms_eps: float = 1e-5\n",
        "    lm_re_base: int = 100000\n",
        "    lm_max_position_embeddings: int = 8192\n",
        "    lm_vocab_size: int = 49152\n",
        "    lm_n_heads: int = 9\n",
        "    lm_n_kv_heads: int = 3\n",
        "    lm_dropout: float = 0.0\n",
        "    lm_n_blocks: int = 30\n",
        "    lm_attn_scaling: float = 1.0\n",
        "    lm_eos_token_id: int = 0\n",
        "    lm_use_tokens: bool = False\n",
        "    lm_tie_weights: bool = True\n",
        "    lm_model_type: str = 'HuggingFaceTB/SmolLM2-135M'\n",
        "    lm_tokenizer: str = 'HuggingFaceTB/cosmo2-tokenizer'\n",
        "\n",
        "    # 模態投影器配置\n",
        "    mp_projection_type: str = 'adaptive' # adaptive, transformer, hybrid\n",
        "    mp_target_length: int = 25\n",
        "    mp_use_position_aware: bool = True\n",
        "\n",
        "    # 計算語言模型最大長度\n",
        "    lm_max_length: int = 128 - mp_target_length  # 總長度 - 音頻token長度\n",
        "\n",
        "    # ALM特定配置\n",
        "    alm_load_backbone_weights: bool = True\n",
        "    alm_checkpoint_path: str = 'checkpoints'\n",
        "    alm_name: str = 'nanoALM-222M'\n",
        "    mp_hidden_multiplier = 2\n",
        "    mp_dropout = 0.1\n",
        "\n",
        "\n",
        "@dataclass\n",
        "class TrainConfig:\n",
        "    mp_pretrain_epochs: int = 3\n",
        "    mp_pretrain_lr: float = 1e-4  # 预训练使用较高学习率\n",
        "\n",
        "    lr_mp: float = 5e-5\n",
        "    lr_backbones: float = 5e-6\n",
        "    val_ratio: float = 0.2\n",
        "    compile: bool = False\n",
        "    data_cutoff_idx: int = 1024 # Let's only use a small subset of the data at first, otherwise it takes very long to see anything :D\n",
        "    batch_size: int = 8  # 减小以适应三阶段训练\n",
        "    savee_batch_size: int = 8\n",
        "\n",
        "    # epochs: int = 20\n",
        "    stage1_epochs: int = 10   # 模态对齐\n",
        "    stage2_epochs: int = 10  # 预训练\n",
        "    stage3_epochs: int = 5   # 指令微调\n",
        "\n",
        "    eval_in_epochs: bool = False # Deactivating this in colab, because it would evaluate 1500 samples of SAVEE every time otherwise\n",
        "    resume_from_alm_checkpoint: bool = False # Indicate if the training should be resumed from a checkpoint of the whole ALM or you want to start from scratch\n",
        "\n",
        "    # train_dataset_path: str = 'AbstractTTS/IEMOCAP'\n",
        "    # train_dataset_name: tuple[str, ...] = ('default', ) #All options; (\"ai2d\", \"aokvqa\", \"chart2text\", \"chartqa\", \"clevr\", \"cocoqa\", \"datikz\", \"diagram_image_to_text\", \"docvqa\", \"dvqa\", \"figureqa\", \"finqa\", \"geomverse\", \"hateful_memes\", \"hitab\", \"iam\", \"iconqa\", \"infographic_vqa\", \"intergps\", \"localized_narratives\", \"mapqa\", \"multihiertt\", \"ocrvqa\", \"plotqa\", \"raven\", \"rendered_text\", \"robut_sqa\", \"robut_wikisql\", \"robut_wtq\", \"scienceqa\", \"screen2words\", \"st_vqa\", \"tabmwp\", \"tallyqa\", \"tat_qa\", \"textcaps\", \"textvqa\", \"tqa\", \"vistext\", \"visual7w\", \"visualmrc\", \"vqarad\", \"vqav2\", \"vsr\", \"websight\") # \"clevr_math\", \"okvqa\", \"spot_the_diff\", \"nlvr2\", \"mimic_cgd\",\n",
        "\n",
        "    # train_dataset_path: str = 'speechbrain/LoquaciousSet'\n",
        "    # train_dataset_name: tuple[str, ...] = ('medium', ) # small, medium\n",
        "\n",
        "    train_dataset_path: str = 'MLCommons/peoples_speech'\n",
        "    train_dataset_name: tuple[str, ...] = ('clean_sa', ) # small, medium\n",
        "    test_dataset_path: str = \"AbstractTTS/SAVEE\"\n"
      ]
    },
    {
      "cell_type": "markdown",
      "id": "KmFQwKGcSLr_",
      "metadata": {
        "id": "KmFQwKGcSLr_"
      },
      "source": [
        "### Lets run the training!"
      ]
    },
    {
      "cell_type": "code",
      "execution_count": 13,
      "id": "BXUaUEUcJCp2",
      "metadata": {
        "colab": {
          "base_uri": "https://localhost:8080/"
        },
        "id": "BXUaUEUcJCp2",
        "outputId": "7bec14c5-433f-454a-b727-2a694fcdc5d7"
      },
      "outputs": [
        {
          "name": "stdout",
          "output_type": "stream",
          "text": [
            "Directory 'checkpoints' already exists.\n"
          ]
        }
      ],
      "source": [
        "import os\n",
        "# 要創建的目錄路徑\n",
        "dir_name = ALMConfig.alm_checkpoint_path\n",
        "\n",
        "try:\n",
        "    os.mkdir(dir_name)\n",
        "    print(f\"Directory '{dir_name}' created successfully.\")\n",
        "except FileExistsError:\n",
        "    print(f\"Directory '{dir_name}' already exists.\")\n",
        "except FileNotFoundError:\n",
        "    print(f\"Parent directory does not exist for '{dir_name}'.\")\n",
        "except Exception as e:\n",
        "    print(f\"An error occurred: {e}\")"
      ]
    },
    {
      "cell_type": "code",
      "execution_count": null,
      "id": "9MlFpXQFSNdx",
      "metadata": {
        "colab": {
          "base_uri": "https://localhost:8080/",
          "height": 1000
        },
        "collapsed": true,
        "id": "9MlFpXQFSNdx",
        "outputId": "a084fb13-bfc2-4d97-d816-532c2063ac19"
      },
      "outputs": [
        {
          "name": "stdout",
          "output_type": "stream",
          "text": [
            "Starting Three-Stage Training Pipeline\n",
            "=== Stage 1: Modality Projector Alignment ===\n"
          ]
        },
        {
          "name": "stderr",
          "output_type": "stream",
          "text": [
            "/usr/local/lib/python3.11/dist-packages/huggingface_hub/utils/_auth.py:94: UserWarning: \n",
            "The secret `HF_TOKEN` does not exist in your Colab secrets.\n",
            "To authenticate with the Hugging Face Hub, create a token in your settings tab (https://huggingface.co/settings/tokens), set it as secret in your Google Colab and restart your session.\n",
            "You will be able to reuse this secret in all of your notebooks.\n",
            "Please note that authentication is recommended but still optional to access public models or datasets.\n",
            "  warnings.warn(\n"
          ]
        },
        {
          "name": "stdout",
          "output_type": "stream",
          "text": [
            "AudioProcessor_from_HF initialized with model: <class 'transformers.models.whisper.processing_whisper.WhisperProcessor'>\n",
            "  Target feature frames from cfg: 1500\n",
            "  Using model sampling rate: 16000, hop_length: 160, n_fft: 400\n",
            "  Calculated max raw audio samples for processor: 240240\n",
            "Loading from backbone weights\n",
            "Successfully loaded HuggingFaceTB/SmolLM2-135M weights from safetensors. Model has 134,515,008 parameters.\n",
            "nanoALM initialized with 376,691,520 parameters\n",
            "Stage 1: Only training 442,368 MP parameters\n"
          ]
        },
        {
          "name": "stderr",
          "output_type": "stream",
          "text": [
            "Stage1 Epoch 1: 100%|██████████| 102/102 [00:29<00:00,  3.44it/s]\n",
            "Stage1 Epoch 2: 100%|██████████| 102/102 [00:24<00:00,  4.08it/s]\n",
            "Stage1 Epoch 3: 100%|██████████| 102/102 [00:26<00:00,  3.89it/s]\n",
            "Stage1 Epoch 4: 100%|██████████| 102/102 [00:25<00:00,  3.99it/s]\n",
            "Stage1 Epoch 5: 100%|██████████| 102/102 [00:25<00:00,  4.07it/s]\n"
          ]
        },
        {
          "name": "stdout",
          "output_type": "stream",
          "text": [
            "Stage 1 completed!\n"
          ]
        },
        {
          "data": {
            "image/png": "[encoded data removed]",
            "text/plain": [
              "<Figure size 640x480 with 1 Axes>"
            ]
          },
          "metadata": {},
          "output_type": "display_data"
        },
        {
          "name": "stdout",
          "output_type": "stream",
          "text": [
            "=== Stage 2: Language Model Pretraining ===\n",
            "AudioProcessor_from_HF initialized with model: <class 'transformers.models.whisper.processing_whisper.WhisperProcessor'>\n",
            "  Target feature frames from cfg: 1500\n",
            "  Using model sampling rate: 16000, hop_length: 160, n_fft: 400\n",
            "  Calculated max raw audio samples for processor: 240240\n",
            "Stage 2: Training 134,957,376 parameters\n"
          ]
        },
        {
          "name": "stderr",
          "output_type": "stream",
          "text": [
            "Stage2 Epoch 1:   1%|          | 1/102 [00:05<08:38,  5.14s/it]"
          ]
        },
        {
          "name": "stdout",
          "output_type": "stream",
          "text": [
            "Stage2 Step: 0, Pretraining Loss: 3.8273\n"
          ]
        },
        {
          "name": "stderr",
          "output_type": "stream",
          "text": [
            "Stage2 Epoch 1:  50%|█████     | 51/102 [01:15<01:17,  1.53s/it]"
          ]
        },
        {
          "name": "stdout",
          "output_type": "stream",
          "text": [
            "Stage2 Step: 50, Pretraining Loss: 3.0569\n"
          ]
        },
        {
          "name": "stderr",
          "output_type": "stream",
          "text": [
            "Stage2 Epoch 1:  99%|█████████▉| 101/102 [02:27<00:01,  1.43s/it]"
          ]
        },
        {
          "name": "stdout",
          "output_type": "stream",
          "text": [
            "Stage2 Step: 100, Pretraining Loss: 3.1046\n"
          ]
        },
        {
          "name": "stderr",
          "output_type": "stream",
          "text": [
            "Stage2 Epoch 1: 100%|██████████| 102/102 [02:28<00:00,  1.46s/it]\n"
          ]
        },
        {
          "name": "stdout",
          "output_type": "stream",
          "text": [
            "Stage2 Epoch 1/10 | Pretraining Loss: 3.3778\n"
          ]
        },
        {
          "name": "stderr",
          "output_type": "stream",
          "text": [
            "Stage2 Epoch 2:  48%|████▊     | 49/102 [01:11<01:11,  1.35s/it]"
          ]
        },
        {
          "name": "stdout",
          "output_type": "stream",
          "text": [
            "Stage2 Step: 150, Pretraining Loss: 2.4677\n"
          ]
        },
        {
          "name": "stderr",
          "output_type": "stream",
          "text": [
            "Stage2 Epoch 2:  97%|█████████▋| 99/102 [02:21<00:04,  1.40s/it]"
          ]
        },
        {
          "name": "stdout",
          "output_type": "stream",
          "text": [
            "Stage2 Step: 200, Pretraining Loss: 2.7842\n"
          ]
        },
        {
          "name": "stderr",
          "output_type": "stream",
          "text": [
            "Stage2 Epoch 2: 100%|██████████| 102/102 [02:25<00:00,  1.43s/it]\n"
          ]
        },
        {
          "name": "stdout",
          "output_type": "stream",
          "text": [
            "Stage2 Epoch 2/10 | Pretraining Loss: 2.9462\n"
          ]
        },
        {
          "name": "stderr",
          "output_type": "stream",
          "text": [
            "Stage2 Epoch 3:  46%|████▌     | 47/102 [01:08<01:13,  1.34s/it]"
          ]
        },
        {
          "name": "stdout",
          "output_type": "stream",
          "text": [
            "Stage2 Step: 250, Pretraining Loss: 2.7262\n"
          ]
        },
        {
          "name": "stderr",
          "output_type": "stream",
          "text": [
            "Stage2 Epoch 3:  95%|█████████▌| 97/102 [02:19<00:07,  1.48s/it]"
          ]
        },
        {
          "name": "stdout",
          "output_type": "stream",
          "text": [
            "Stage2 Step: 300, Pretraining Loss: 2.4698\n"
          ]
        },
        {
          "name": "stderr",
          "output_type": "stream",
          "text": [
            "Stage2 Epoch 3: 100%|██████████| 102/102 [02:26<00:00,  1.44s/it]\n"
          ]
        },
        {
          "name": "stdout",
          "output_type": "stream",
          "text": [
            "Stage2 Epoch 3/10 | Pretraining Loss: 2.8425\n"
          ]
        },
        {
          "name": "stderr",
          "output_type": "stream",
          "text": [
            "Stage2 Epoch 4:  44%|████▍     | 45/102 [01:05<01:17,  1.35s/it]"
          ]
        },
        {
          "name": "stdout",
          "output_type": "stream",
          "text": [
            "Stage2 Step: 350, Pretraining Loss: 2.3941\n"
          ]
        },
        {
          "name": "stderr",
          "output_type": "stream",
          "text": [
            "Stage2 Epoch 4:  93%|█████████▎| 95/102 [02:15<00:09,  1.39s/it]"
          ]
        },
        {
          "name": "stdout",
          "output_type": "stream",
          "text": [
            "Stage2 Step: 400, Pretraining Loss: 2.8997\n"
          ]
        },
        {
          "name": "stderr",
          "output_type": "stream",
          "text": [
            "Stage2 Epoch 4: 100%|██████████| 102/102 [02:25<00:00,  1.43s/it]\n"
          ]
        },
        {
          "name": "stdout",
          "output_type": "stream",
          "text": [
            "Stage2 Epoch 4/10 | Pretraining Loss: 2.7677\n"
          ]
        },
        {
          "name": "stderr",
          "output_type": "stream",
          "text": [
            "Stage2 Epoch 5:  42%|████▏     | 43/102 [01:03<01:20,  1.37s/it]"
          ]
        },
        {
          "name": "stdout",
          "output_type": "stream",
          "text": [
            "Stage2 Step: 450, Pretraining Loss: 2.3702\n"
          ]
        },
        {
          "name": "stderr",
          "output_type": "stream",
          "text": [
            "Stage2 Epoch 5:  91%|█████████ | 93/102 [02:13<00:13,  1.50s/it]"
          ]
        },
        {
          "name": "stdout",
          "output_type": "stream",
          "text": [
            "Stage2 Step: 500, Pretraining Loss: 2.8811\n"
          ]
        },
        {
          "name": "stderr",
          "output_type": "stream",
          "text": [
            "Stage2 Epoch 5: 100%|██████████| 102/102 [02:26<00:00,  1.43s/it]\n"
          ]
        },
        {
          "name": "stdout",
          "output_type": "stream",
          "text": [
            "Stage2 Epoch 5/10 | Pretraining Loss: 2.7021\n"
          ]
        },
        {
          "name": "stderr",
          "output_type": "stream",
          "text": [
            "Stage2 Epoch 6:  40%|████      | 41/102 [01:00<01:22,  1.35s/it]"
          ]
        },
        {
          "name": "stdout",
          "output_type": "stream",
          "text": [
            "Stage2 Step: 550, Pretraining Loss: 2.8590\n"
          ]
        },
        {
          "name": "stderr",
          "output_type": "stream",
          "text": [
            "Stage2 Epoch 6:  89%|████████▉ | 91/102 [02:10<00:14,  1.36s/it]"
          ]
        },
        {
          "name": "stdout",
          "output_type": "stream",
          "text": [
            "Stage2 Step: 600, Pretraining Loss: 2.2493\n"
          ]
        },
        {
          "name": "stderr",
          "output_type": "stream",
          "text": [
            "Stage2 Epoch 6: 100%|██████████| 102/102 [02:25<00:00,  1.43s/it]\n"
          ]
        },
        {
          "name": "stdout",
          "output_type": "stream",
          "text": [
            "Stage2 Epoch 6/10 | Pretraining Loss: 2.6314\n"
          ]
        },
        {
          "name": "stderr",
          "output_type": "stream",
          "text": [
            "Stage2 Epoch 7:  38%|███▊      | 39/102 [00:58<01:24,  1.35s/it]"
          ]
        },
        {
          "name": "stdout",
          "output_type": "stream",
          "text": [
            "Stage2 Step: 650, Pretraining Loss: 2.6015\n"
          ]
        },
        {
          "name": "stderr",
          "output_type": "stream",
          "text": [
            "Stage2 Epoch 7:  87%|████████▋ | 89/102 [02:08<00:18,  1.40s/it]"
          ]
        },
        {
          "name": "stdout",
          "output_type": "stream",
          "text": [
            "Stage2 Step: 700, Pretraining Loss: 2.7886\n"
          ]
        },
        {
          "name": "stderr",
          "output_type": "stream",
          "text": [
            "Stage2 Epoch 7: 100%|██████████| 102/102 [02:26<00:00,  1.43s/it]\n"
          ]
        },
        {
          "name": "stdout",
          "output_type": "stream",
          "text": [
            "Stage2 Epoch 7/10 | Pretraining Loss: 2.5948\n"
          ]
        },
        {
          "name": "stderr",
          "output_type": "stream",
          "text": [
            "Stage2 Epoch 8:  36%|███▋      | 37/102 [00:55<01:32,  1.42s/it]"
          ]
        },
        {
          "name": "stdout",
          "output_type": "stream",
          "text": [
            "Stage2 Step: 750, Pretraining Loss: 2.6900\n"
          ]
        },
        {
          "name": "stderr",
          "output_type": "stream",
          "text": [
            "Stage2 Epoch 8:  85%|████████▌ | 87/102 [02:05<00:22,  1.51s/it]"
          ]
        },
        {
          "name": "stdout",
          "output_type": "stream",
          "text": [
            "Stage2 Step: 800, Pretraining Loss: 2.4852\n"
          ]
        },
        {
          "name": "stderr",
          "output_type": "stream",
          "text": [
            "Stage2 Epoch 8: 100%|██████████| 102/102 [02:25<00:00,  1.43s/it]\n"
          ]
        },
        {
          "name": "stdout",
          "output_type": "stream",
          "text": [
            "Stage2 Epoch 8/10 | Pretraining Loss: 2.5572\n"
          ]
        },
        {
          "name": "stderr",
          "output_type": "stream",
          "text": [
            "Stage2 Epoch 9:  34%|███▍      | 35/102 [00:52<01:32,  1.39s/it]"
          ]
        },
        {
          "name": "stdout",
          "output_type": "stream",
          "text": [
            "Stage2 Step: 850, Pretraining Loss: 2.4317\n"
          ]
        },
        {
          "name": "stderr",
          "output_type": "stream",
          "text": [
            "Stage2 Epoch 9:  83%|████████▎ | 85/102 [02:02<00:24,  1.41s/it]"
          ]
        },
        {
          "name": "stdout",
          "output_type": "stream",
          "text": [
            "Stage2 Step: 900, Pretraining Loss: 2.4018\n"
          ]
        },
        {
          "name": "stderr",
          "output_type": "stream",
          "text": [
            "Stage2 Epoch 9: 100%|██████████| 102/102 [02:26<00:00,  1.44s/it]\n"
          ]
        },
        {
          "name": "stdout",
          "output_type": "stream",
          "text": [
            "Stage2 Epoch 9/10 | Pretraining Loss: 2.5447\n"
          ]
        },
        {
          "name": "stderr",
          "output_type": "stream",
          "text": [
            "Stage2 Epoch 10:  32%|███▏      | 33/102 [00:49<01:46,  1.55s/it]"
          ]
        },
        {
          "name": "stdout",
          "output_type": "stream",
          "text": [
            "Stage2 Step: 950, Pretraining Loss: 2.2707\n"
          ]
        },
        {
          "name": "stderr",
          "output_type": "stream",
          "text": [
            "Stage2 Epoch 10:  81%|████████▏ | 83/102 [01:58<00:25,  1.34s/it]"
          ]
        },
        {
          "name": "stdout",
          "output_type": "stream",
          "text": [
            "Stage2 Step: 1000, Pretraining Loss: 2.8571\n"
          ]
        },
        {
          "name": "stderr",
          "output_type": "stream",
          "text": [
            "Stage2 Epoch 10: 100%|██████████| 102/102 [02:26<00:00,  1.43s/it]\n"
          ]
        },
        {
          "name": "stdout",
          "output_type": "stream",
          "text": [
            "Stage2 Epoch 10/10 | Pretraining Loss: 2.5208\n",
            "Stage 2 completed!\n"
          ]
        },
        {
          "data": {
            "image/png": "[encoded data removed]",
            "text/plain": [
              "<Figure size 640x480 with 1 Axes>"
            ]
          },
          "metadata": {},
          "output_type": "display_data"
        },
        {
          "name": "stdout",
          "output_type": "stream",
          "text": [
            "=== Stage 3: Instruction Tuning ===\n",
            "AudioProcessor_from_HF initialized with model: <class 'transformers.models.whisper.processing_whisper.WhisperProcessor'>\n",
            "  Target feature frames from cfg: 1500\n",
            "  Using model sampling rate: 16000, hop_length: 160, n_fft: 400\n",
            "  Calculated max raw audio samples for processor: 240240\n",
            "Stage 3: Training all 376,691,520 parameters\n"
          ]
        },
        {
          "name": "stderr",
          "output_type": "stream",
          "text": [
            "Stage3 Epoch 1:   1%|          | 1/102 [00:04<07:03,  4.19s/it]"
          ]
        },
        {
          "name": "stdout",
          "output_type": "stream",
          "text": [
            "Stage3 Step: 0, Instruction Loss: 2.6858\n"
          ]
        },
        {
          "name": "stderr",
          "output_type": "stream",
          "text": [
            "Stage3 Epoch 1:  50%|█████     | 51/102 [01:14<01:11,  1.40s/it]"
          ]
        },
        {
          "name": "stdout",
          "output_type": "stream",
          "text": [
            "Stage3 Step: 50, Instruction Loss: 2.6852\n"
          ]
        },
        {
          "name": "stderr",
          "output_type": "stream",
          "text": [
            "Stage3 Epoch 1:  99%|█████████▉| 101/102 [02:24<00:01,  1.40s/it]"
          ]
        },
        {
          "name": "stdout",
          "output_type": "stream",
          "text": [
            "Stage3 Step: 100, Instruction Loss: 2.1917\n"
          ]
        },
        {
          "name": "stderr",
          "output_type": "stream",
          "text": [
            "Stage3 Epoch 1: 100%|██████████| 102/102 [02:26<00:00,  1.43s/it]\n"
          ]
        },
        {
          "name": "stdout",
          "output_type": "stream",
          "text": [
            "Stage3 Epoch 1/5 | Instruction Loss: 2.5202\n"
          ]
        },
        {
          "name": "stderr",
          "output_type": "stream",
          "text": [
            "Stage3 Epoch 2:  48%|████▊     | 49/102 [01:11<01:14,  1.41s/it]"
          ]
        },
        {
          "name": "stdout",
          "output_type": "stream",
          "text": [
            "Stage3 Step: 150, Instruction Loss: 2.7551\n"
          ]
        },
        {
          "name": "stderr",
          "output_type": "stream",
          "text": [
            "Stage3 Epoch 2:  97%|█████████▋| 99/102 [02:21<00:04,  1.51s/it]"
          ]
        },
        {
          "name": "stdout",
          "output_type": "stream",
          "text": [
            "Stage3 Step: 200, Instruction Loss: 2.6967\n"
          ]
        },
        {
          "name": "stderr",
          "output_type": "stream",
          "text": [
            "Stage3 Epoch 2: 100%|██████████| 102/102 [02:25<00:00,  1.42s/it]\n"
          ]
        },
        {
          "name": "stdout",
          "output_type": "stream",
          "text": [
            "Stage3 Epoch 2/5 | Instruction Loss: 2.5053\n"
          ]
        },
        {
          "name": "stderr",
          "output_type": "stream",
          "text": [
            "Stage3 Epoch 3:  46%|████▌     | 47/102 [01:09<01:23,  1.53s/it]"
          ]
        },
        {
          "name": "stdout",
          "output_type": "stream",
          "text": [
            "Stage3 Step: 250, Instruction Loss: 2.4901\n"
          ]
        },
        {
          "name": "stderr",
          "output_type": "stream",
          "text": [
            "Stage3 Epoch 3:  95%|█████████▌| 97/102 [02:18<00:06,  1.33s/it]"
          ]
        },
        {
          "name": "stdout",
          "output_type": "stream",
          "text": [
            "Stage3 Step: 300, Instruction Loss: 2.3979\n"
          ]
        },
        {
          "name": "stderr",
          "output_type": "stream",
          "text": [
            "Stage3 Epoch 3: 100%|██████████| 102/102 [02:26<00:00,  1.43s/it]\n"
          ]
        },
        {
          "name": "stdout",
          "output_type": "stream",
          "text": [
            "Stage3 Epoch 3/5 | Instruction Loss: 2.4923\n"
          ]
        },
        {
          "name": "stderr",
          "output_type": "stream",
          "text": [
            "Stage3 Epoch 4:  44%|████▍     | 45/102 [01:05<01:16,  1.33s/it]"
          ]
        },
        {
          "name": "stdout",
          "output_type": "stream",
          "text": [
            "Stage3 Step: 350, Instruction Loss: 2.1853\n"
          ]
        },
        {
          "name": "stderr",
          "output_type": "stream",
          "text": [
            "Stage3 Epoch 4:  93%|█████████▎| 95/102 [02:15<00:09,  1.34s/it]"
          ]
        },
        {
          "name": "stdout",
          "output_type": "stream",
          "text": [
            "Stage3 Step: 400, Instruction Loss: 2.4532\n"
          ]
        },
        {
          "name": "stderr",
          "output_type": "stream",
          "text": [
            "Stage3 Epoch 4: 100%|██████████| 102/102 [02:25<00:00,  1.42s/it]\n"
          ]
        },
        {
          "name": "stdout",
          "output_type": "stream",
          "text": [
            "Stage3 Epoch 4/5 | Instruction Loss: 2.4868\n"
          ]
        },
        {
          "name": "stderr",
          "output_type": "stream",
          "text": [
            "Stage3 Epoch 5:  42%|████▏     | 43/102 [01:03<01:20,  1.37s/it]"
          ]
        },
        {
          "name": "stdout",
          "output_type": "stream",
          "text": [
            "Stage3 Step: 450, Instruction Loss: 2.4397\n"
          ]
        },
        {
          "name": "stderr",
          "output_type": "stream",
          "text": [
            "Stage3 Epoch 5:  91%|█████████ | 93/102 [02:13<00:12,  1.39s/it]"
          ]
        },
        {
          "name": "stdout",
          "output_type": "stream",
          "text": [
            "Stage3 Step: 500, Instruction Loss: 2.3647\n"
          ]
        },
        {
          "name": "stderr",
          "output_type": "stream",
          "text": [
            "Stage3 Epoch 5: 100%|██████████| 102/102 [02:25<00:00,  1.43s/it]\n"
          ]
        },
        {
          "name": "stdout",
          "output_type": "stream",
          "text": [
            "Stage3 Epoch 5/5 | Instruction Loss: 2.4718\n",
            "Stage 3 completed!\n",
            "=== Training Pipeline Completed! ===\n"
          ]
        }
      ],
      "source": [
        "alm_cfg = ALMConfig()\n",
        "train_cfg = TrainConfig()\n",
        "\n",
        "# trained_model = train(train_cfg, alm_cfg)\n",
        "stage1_model = train_step1_alignment(train_cfg, alm_cfg)\n",
        "# stage2_model = train_step2_pretraining(train_cfg, alm_cfg, stage1_model)\n",
        "# final_model = train_step3_instruction_tuning(train_cfg, alm_cfg, stage2_model)\n",
        "# stage1_model, stage2_model, final_model = train_three_stages(train_cfg, alm_cfg)\n",
        "\n",
        "stage1_model.save_pretrained(\"/content/\")\n",
        "# stage2_model.save_pretrained(\"/content/\")\n",
        "# final_model.save_pretrained(\"/content/\")"
      ]
    },
    {
      "cell_type": "code",
      "execution_count": 17,
      "id": "VHmI2cQ28RAj",
      "metadata": {
        "colab": {
          "base_uri": "https://localhost:8080/"
        },
        "id": "VHmI2cQ28RAj",
        "outputId": "0a0a6d9b-a001-4cf5-b569-062ce3a98028"
      },
      "outputs": [
        {
          "name": "stdout",
          "output_type": "stream",
          "text": [
            "Mounted at /content/drive\n"
          ]
        }
      ],
      "source": [
        "from google.colab import drive\n",
        "drive.mount('/content/drive')"
      ]
    },
    {
      "cell_type": "markdown",
      "id": "78d938dd",
      "metadata": {
        "id": "78d938dd"
      },
      "source": [
        "As you can see the model trains, so feel free to play around with the architecture or data! Let us know what you build with it!\n",
        "\n",
        "PS: If you want to test the model, check out generate.py to see how to do inference with it"
      ]
    },
    {
      "cell_type": "markdown",
      "id": "mZWoCjkGGfMQ",
      "metadata": {
        "id": "mZWoCjkGGfMQ"
      },
      "source": [
        "### Test"
      ]
    },
    {
      "cell_type": "code",
      "execution_count": 18,
      "id": "kjOsHkjpCoYp",
      "metadata": {
        "colab": {
          "base_uri": "https://localhost:8080/"
        },
        "id": "kjOsHkjpCoYp",
        "outputId": "0b1d4880-97fc-45fb-8553-f5f55ebf03e5"
      },
      "outputs": [
        {
          "name": "stdout",
          "output_type": "stream",
          "text": [
            "/bin/bash: line 1: generate.py: command not found\n"
          ]
        }
      ],
      "source": [
        "!cp /content/drive/MyDrive/nanoALM/output_txt1.wav /content/output_txt1.wav\n",
        "!cp /content/drive/MyDrive/nanoALM/output_txt2.wav /content/output_txt2.wav\n",
        "!cp /content/drive/MyDrive/nanoALM/output_txt3.wav /content/output_txt3.wav"
      ]
    },
    {
      "cell_type": "code",
      "execution_count": 29,
      "id": "RSbBheB3HGns",
      "metadata": {
        "colab": {
          "base_uri": "https://localhost:8080/"
        },
        "id": "RSbBheB3HGns",
        "outputId": "5f3127f0-6174-42c2-b811-c70e8f99a6f0"
      },
      "outputs": [
        {
          "name": "stdout",
          "output_type": "stream",
          "text": [
            "2025-06-25 08:19:19.734448: E external/local_xla/xla/stream_executor/cuda/cuda_fft.cc:477] Unable to register cuFFT factory: Attempting to register factory for plugin cuFFT when one has already been registered\n",
            "WARNING: All log messages before absl::InitializeLog() is called are written to STDERR\n",
            "E0000 00:00:1750839559.769232   34976 cuda_dnn.cc:8310] Unable to register cuDNN factory: Attempting to register factory for plugin cuDNN when one has already been registered\n",
            "E0000 00:00:1750839559.779186   34976 cuda_blas.cc:1418] Unable to register cuBLAS factory: Attempting to register factory for plugin cuBLAS when one has already been registered\n",
            "Using device: cuda\n",
            "Loading weights from: ../\n",
            "AudioProcessor_from_HF initialized with model: <class 'transformers.models.whisper.processing_whisper.WhisperProcessor'>\n",
            "  Target feature frames from cfg: 1500\n",
            "  Using model sampling rate: 16000, hop_length: 160, n_fft: 400\n",
            "  Calculated max raw audio samples for processor: 240240\n",
            "\n",
            "Input:\n",
            "   \n",
            "\n",
            "Outputs:\n",
            "  >> Generation 1:   That's the end of the story.  That's the end of the story.  No more.  No more.  You know what I'm saying?  I don't understand why you don't just go and do it yourself.  It would be so much fun.  But you know what I'm saying?  You should do it.  It's not as hard as you think it is.  You don't have to do it all over again.  You can\n",
            "  >> Generation 2:   You know what?  I mean you're not going to believe it, but you're not.  You're not like, I just know you're going to believe it and then you think,  I'm going to believe it and then you're like, I don't believe it and I'm not going to believe it again.  And I just do.  I don't believe it and I don't think it and I just do.  It just does.  You know\n",
            "  >> Generation 3:   That's a good one, I don't think so. You don't have to be a mathematician to get the answer.  Didn't you just say the same thing?  That's what I was saying.  I guess I just don't get it.  I just don't.  I just don't.  I guess I just don't get it.  That I'm not a mathematician.  I just am not.  I'm not.  You know what\n",
            "  >> Generation 4:   Well, I can't see him. He's the only one who can understand. It's like a little child, I suppose.  I'm still a little kid.  I can't get past it.  I can't see him.  I can't see him, can't see him.  I'm so scared.  I'm so scared I can't move.  I can't believe it.  I can't believe it.  I can't believe it's\n",
            "  >> Generation 5:  2.  I'm just not getting it.  Why is it so hard for you to get it?  I'm just not getting it.  Why is it so hard for you to get it?  Why is it so hard for me to get it?  I don't want to be wrong.  I want to be right.  I want you to be right.  I want you to be right.  I want you to be right, I want you to be\n"
          ]
        }
      ],
      "source": [
        "stage1_model.save_pretrained(\"/content/\")\n",
        "!python generate.py"
      ]
    }
  ],
  "metadata": {
    "accelerator": "GPU",
    "colab": {
      "gpuType": "T4",
      "machine_shape": "hm",
      "provenance": []
    },
    "kernelspec": {
      "display_name": "Python 3",
      "name": "python3"
    },
    "language_info": {
      "codemirror_mode": {
        "name": "ipython",
        "version": 3
      },
      "file_extension": ".py",
      "mimetype": "text/x-python",
      "name": "python",
      "nbconvert_exporter": "python",
      "pygments_lexer": "ipython3",
      "version": "3.8.10"
    }
  },
  "nbformat": 4,
  "nbformat_minor": 5
}
